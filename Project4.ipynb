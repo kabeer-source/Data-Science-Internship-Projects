{
  "nbformat": 4,
  "nbformat_minor": 0,
  "metadata": {
    "colab": {
      "name": "Untitled0.ipynb",
      "provenance": [],
      "authorship_tag": "ABX9TyNVKe4C7CpBbnIAMSNiO/FG",
      "include_colab_link": true
    },
    "kernelspec": {
      "name": "python3",
      "display_name": "Python 3"
    },
    "language_info": {
      "name": "python"
    }
  },
  "cells": [
    {
      "cell_type": "markdown",
      "metadata": {
        "id": "view-in-github",
        "colab_type": "text"
      },
      "source": [
        "<a href=\"https://colab.research.google.com/github/kabeer-source/Data-Science-Internship-Projects/blob/main/Project4.ipynb\" target=\"_parent\"><img src=\"https://colab.research.google.com/assets/colab-badge.svg\" alt=\"Open In Colab\"/></a>"
      ]
    },
    {
      "cell_type": "code",
      "metadata": {
        "colab": {
          "base_uri": "https://localhost:8080/"
        },
        "id": "BKDHArbmk742",
        "outputId": "201d94d6-3943-4488-fcf4-a6708749be7d"
      },
      "source": [
        "## Starting of the code\n",
        "\n",
        "number1 = float(input(\"Enter number 1: \"))\n",
        "number2 = float(input(\"Enter number 2: \"))\n",
        "\n"
      ],
      "execution_count": 22,
      "outputs": [
        {
          "output_type": "stream",
          "text": [
            "Enter number 1: -56\n",
            "Enter number 2: 150\n"
          ],
          "name": "stdout"
        }
      ]
    },
    {
      "cell_type": "code",
      "metadata": {
        "colab": {
          "base_uri": "https://localhost:8080/"
        },
        "id": "zwOy-HABmwny",
        "outputId": "9974560e-c02c-4778-f0c5-262c67cbc421"
      },
      "source": [
        "operation = input(\"Enter operator\\n'+'for addition\\n'-' for subtraction\\n'*' for multiplication\\n'/' for division\\n'%' for Modulus\\n'//' for floor division: \")"
      ],
      "execution_count": 23,
      "outputs": [
        {
          "output_type": "stream",
          "text": [
            "Enter operator\n",
            "'+'for addition\n",
            "'-' for subtraction\n",
            "'*' for multiplication\n",
            "'/' for division\n",
            "'%' for Modulus\n",
            "'//' for floor division: +\n"
          ],
          "name": "stdout"
        }
      ]
    },
    {
      "cell_type": "code",
      "metadata": {
        "colab": {
          "base_uri": "https://localhost:8080/"
        },
        "id": "m_2y-tMVnJSn",
        "outputId": "8de2509f-4cf1-478f-9bc4-86fb4a32467f"
      },
      "source": [
        "def addition(num1,num2):\n",
        "  return \"Addition of \"+str(num1)+\" and \"+str(num2)+\" is equal to \"+str(num1+num2) \n",
        "def subtraction(num1,num2):\n",
        "  return \"Subtraction of \"+str(num1)+\" and \"+str(num2)+\" is equal to \"+str(num1-num2)\n",
        "def multiplication(num1,num2):\n",
        "  return \"Multiplication of \"+str(num1)+\" and \"+str(num2)+\" is equal to \"+str(num1*num2) \n",
        "def division(num1,num2):\n",
        "  return \"Division of \"+str(num1)+\" and \"+str(num2)+\" is equal to \"+str(num1/num2)\n",
        "def modulus(num1,num2):\n",
        "  return \"Modulus of \"+str(num1)+\" and \"+str(num2)+\" is equal to \"+str(num1%num2) \n",
        "def floordivision(num1,num2):\n",
        "  return \"Floor Division of \"+str(num1)+\" and \"+str(num2)+\" is equal to \"+str(num1//num2) \n",
        "  \n",
        "if(operation==\"+\"):\n",
        "  print(addition(number1,number2))\n",
        "elif(operation==\"-\"):\n",
        "  print(subtraction(number1,number2))\n",
        "elif(operation==\"*\"):\n",
        "  print(multiplication(number1,number2))\n",
        "elif(operation==\"/\"):\n",
        "  print(multiplication(number1,number2))\n",
        "elif(operation==\"%\"):\n",
        "  print(modulus(number1,number1))\n",
        "elif(operation==\"//\"):\n",
        "  print(floordivision(number1,number2))\n",
        "else:\n",
        "  print(\"Invalid Operation\")"
      ],
      "execution_count": 24,
      "outputs": [
        {
          "output_type": "stream",
          "text": [
            "Addition of -56.0 and 150.0 is equal to 94.0\n"
          ],
          "name": "stdout"
        }
      ]
    },
    {
      "cell_type": "code",
      "metadata": {
        "id": "GK1gfyffpKib"
      },
      "source": [
        ""
      ],
      "execution_count": null,
      "outputs": []
    }
  ]
}